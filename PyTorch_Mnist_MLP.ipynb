{
 "cells": [
  {
   "cell_type": "markdown",
   "metadata": {},
   "source": [
    "## PyTorch 编写误差反向传播BP的多层感知器MLP处理NIST"
   ]
  },
  {
   "cell_type": "code",
   "execution_count": 1,
   "metadata": {},
   "outputs": [
    {
     "name": "stderr",
     "output_type": "stream",
     "text": [
      "D:\\Program\\anaconda\\envs\\pytorch\\lib\\site-packages\\sklearn\\datasets\\_openml.py:968: FutureWarning: The default value of `parser` will change from `'liac-arff'` to `'auto'` in 1.4. You can set `parser='auto'` to silence this warning. Therefore, an `ImportError` will be raised from 1.4 if the dataset is dense and pandas is not installed. Note that the pandas parser may return different data types. See the Notes Section in fetch_openml's API doc for details.\n",
      "  warn(\n"
     ]
    }
   ],
   "source": [
    "\n",
    "from sklearn.datasets import fetch_openml\n",
    "mnist = fetch_openml('mnist_784', version=1, data_home=\".\")  \n"
   ]
  },
  {
   "cell_type": "code",
   "execution_count": 2,
   "metadata": {},
   "outputs": [
    {
     "name": "stdout",
     "output_type": "stream",
     "text": [
      "       pixel1  pixel2  pixel3  pixel4  pixel5  pixel6  pixel7  pixel8  pixel9  \\\n",
      "0         0.0     0.0     0.0     0.0     0.0     0.0     0.0     0.0     0.0   \n",
      "1         0.0     0.0     0.0     0.0     0.0     0.0     0.0     0.0     0.0   \n",
      "2         0.0     0.0     0.0     0.0     0.0     0.0     0.0     0.0     0.0   \n",
      "3         0.0     0.0     0.0     0.0     0.0     0.0     0.0     0.0     0.0   \n",
      "4         0.0     0.0     0.0     0.0     0.0     0.0     0.0     0.0     0.0   \n",
      "...       ...     ...     ...     ...     ...     ...     ...     ...     ...   \n",
      "69995     0.0     0.0     0.0     0.0     0.0     0.0     0.0     0.0     0.0   \n",
      "69996     0.0     0.0     0.0     0.0     0.0     0.0     0.0     0.0     0.0   \n",
      "69997     0.0     0.0     0.0     0.0     0.0     0.0     0.0     0.0     0.0   \n",
      "69998     0.0     0.0     0.0     0.0     0.0     0.0     0.0     0.0     0.0   \n",
      "69999     0.0     0.0     0.0     0.0     0.0     0.0     0.0     0.0     0.0   \n",
      "\n",
      "       pixel10  ...  pixel775  pixel776  pixel777  pixel778  pixel779  \\\n",
      "0          0.0  ...       0.0       0.0       0.0       0.0       0.0   \n",
      "1          0.0  ...       0.0       0.0       0.0       0.0       0.0   \n",
      "2          0.0  ...       0.0       0.0       0.0       0.0       0.0   \n",
      "3          0.0  ...       0.0       0.0       0.0       0.0       0.0   \n",
      "4          0.0  ...       0.0       0.0       0.0       0.0       0.0   \n",
      "...        ...  ...       ...       ...       ...       ...       ...   \n",
      "69995      0.0  ...       0.0       0.0       0.0       0.0       0.0   \n",
      "69996      0.0  ...       0.0       0.0       0.0       0.0       0.0   \n",
      "69997      0.0  ...       0.0       0.0       0.0       0.0       0.0   \n",
      "69998      0.0  ...       0.0       0.0       0.0       0.0       0.0   \n",
      "69999      0.0  ...       0.0       0.0       0.0       0.0       0.0   \n",
      "\n",
      "       pixel780  pixel781  pixel782  pixel783  pixel784  \n",
      "0           0.0       0.0       0.0       0.0       0.0  \n",
      "1           0.0       0.0       0.0       0.0       0.0  \n",
      "2           0.0       0.0       0.0       0.0       0.0  \n",
      "3           0.0       0.0       0.0       0.0       0.0  \n",
      "4           0.0       0.0       0.0       0.0       0.0  \n",
      "...         ...       ...       ...       ...       ...  \n",
      "69995       0.0       0.0       0.0       0.0       0.0  \n",
      "69996       0.0       0.0       0.0       0.0       0.0  \n",
      "69997       0.0       0.0       0.0       0.0       0.0  \n",
      "69998       0.0       0.0       0.0       0.0       0.0  \n",
      "69999       0.0       0.0       0.0       0.0       0.0  \n",
      "\n",
      "[70000 rows x 784 columns]\n"
     ]
    }
   ],
   "source": [
    "\n",
    "#归一化为0-1\n",
    "X = mnist.data / 255  \n",
    "y = mnist.target\n",
    "print(X)\n",
    "\n",
    "import numpy as np\n",
    "X = np.array(X)\n",
    "y = np.array(y)\n",
    "y = y.astype(np.int32)\n"
   ]
  },
  {
   "cell_type": "code",
   "execution_count": 3,
   "metadata": {
    "scrolled": true
   },
   "outputs": [
    {
     "name": "stdout",
     "output_type": "stream",
     "text": [
      "该图像的标签是5\n"
     ]
    },
    {
     "data": {
      "image/png": "[encoded data removed]",
      "text/plain": [
       "<Figure size 640x480 with 1 Axes>"
      ]
     },
     "metadata": {},
     "output_type": "display_data"
    }
   ],
   "source": [
    "\n",
    "import matplotlib.pyplot as plt\n",
    "%matplotlib inline\n",
    "\n",
    "plt.imshow(X[0].reshape(28, 28), cmap='gray')\n",
    "print(\"该图像的标签是{:.0f}\".format(y[0]))\n"
   ]
  },
  {
   "cell_type": "code",
   "execution_count": 4,
   "metadata": {},
   "outputs": [],
   "source": [
    "\n",
    "import torch\n",
    "from torch.utils.data import TensorDataset, DataLoader\n",
    "from sklearn.model_selection import train_test_split\n",
    "\n",
    "# 2.1 按（6:1）分离训练集和测试集\n",
    "X_train, X_test, y_train, y_test = train_test_split(\n",
    "    X, y, test_size=1/7, random_state=0)\n",
    "\n",
    "# 2.2 PyTorch Tensor转换\n",
    "X_train = torch.Tensor(X_train)\n",
    "X_test = torch.Tensor(X_test)\n",
    "y_train = torch.LongTensor(y_train)\n",
    "y_test = torch.LongTensor(y_test)\n",
    "\n",
    "# 2.3 使用数据和标签合成Dataset\n",
    "ds_train = TensorDataset(X_train, y_train)\n",
    "ds_test = TensorDataset(X_test, y_test)\n",
    "\n",
    "# 2.4 使用小批量数据作为Dataloader\n",
    "loader_train = DataLoader(ds_train, batch_size=64, shuffle=True)\n",
    "loader_test = DataLoader(ds_test, batch_size=64, shuffle=False)\n"
   ]
  },
  {
   "cell_type": "code",
   "execution_count": null,
   "metadata": {},
   "outputs": [],
   "source": [
    "# 3. 神经网络建模\n",
    "# Keras风格\n",
    "\n",
    "from torch import nn\n",
    "\n",
    "model = nn.Sequential()\n",
    "model.add_module('fc1', nn.Linear(28*28*1, 100))\n",
    "model.add_module('relu1', nn.ReLU())\n",
    "model.add_module('fc2', nn.Linear(100, 100))\n",
    "model.add_module('relu2', nn.ReLU())\n",
    "model.add_module('fc3', nn.Linear(100, 10))\n",
    "\n",
    "print(model)\n"
   ]
  },
  {
   "cell_type": "code",
   "execution_count": null,
   "metadata": {},
   "outputs": [],
   "source": [
    "# 4. 设置误差函数、优化器\n",
    "\n",
    "from torch import optim\n",
    "\n",
    "loss_fn = nn.CrossEntropyLoss()  \n",
    "\n",
    "optimizer = optim.Adam(model.parameters(), lr=0.01)\n"
   ]
  },
  {
   "cell_type": "code",
   "execution_count": null,
   "metadata": {},
   "outputs": [],
   "source": [
    "# 5. 设置训练和推理\n",
    "# 5-1. 定义每轮训练中所作的工作\n",
    "\n",
    "\n",
    "def train(epoch):\n",
    "    model.train()  # 将网络切换到训练模式\n",
    "\n",
    "    #从dataloader取小批量数据进行训练\n",
    "    for data, targets in loader_train:\n",
    "      \n",
    "        optimizer.zero_grad()  # 优化器的梯度初始化为0\n",
    "        outputs = model(data)  # 输入数据data，生成输出outputs\n",
    "        loss = loss_fn(outputs, targets)  # 根据实际输出outputs与期望输出（标签）targets的差异，计算误差损失loss\n",
    "        loss.backward()  # 对误差进行反向传播\n",
    "        optimizer.step()  # 更新权重参数\n",
    "\n",
    "    print(\"epoch{}：结束\\n\".format(epoch))\n"
   ]
  },
  {
   "cell_type": "code",
   "execution_count": null,
   "metadata": {},
   "outputs": [],
   "source": [
    "# 5. 设置训练和推理\n",
    "# 5-2. 定义推理时所作的工作\n",
    "\n",
    "\n",
    "def test():\n",
    "    model.eval()  # 将网络切换到测试模式\n",
    "    correct = 0   #正确结果计数器初始化为0\n",
    "\n",
    "    #从dataloader取小批量数据进行测试\n",
    "    with torch.no_grad():  # 不对误差进行反向传播\n",
    "        for data, targets in loader_test:\n",
    "\n",
    "            outputs = model(data)  # 输入数据data，生成输出outputs\n",
    "\n",
    "            # 推理预测\n",
    "            _, predicted = torch.max(outputs.data, 1)  # 找到概率最高的标签\n",
    "            correct += predicted.eq(targets.data.view_as(predicted)).sum()  # 如果实际输出结果predicted和期望输出targets一致，则计数加一\n",
    "\n",
    "    # 输出准确率\n",
    "    data_num = len(loader_test.dataset)  # 数据总数\n",
    "    print('\\n测试数据的准确率: {}/{} ({:.0f}%)\\n'.format(correct,\n",
    "                                                   data_num, 100. * correct / data_num))\n"
   ]
  },
  {
   "cell_type": "code",
   "execution_count": null,
   "metadata": {},
   "outputs": [],
   "source": [
    "# 未学习先测试看看初始准确率\n",
    "test()\n"
   ]
  },
  {
   "cell_type": "code",
   "execution_count": null,
   "metadata": {},
   "outputs": [],
   "source": [
    "# 6. 训练后再测试看看准确率\n",
    "for epoch in range(3):\n",
    "    train(epoch)\n",
    "\n",
    "test()\n"
   ]
  },
  {
   "cell_type": "code",
   "execution_count": null,
   "metadata": {},
   "outputs": [],
   "source": [
    "# 测试第2018张图像\n",
    "\n",
    "index = 2018\n",
    "\n",
    "model.eval()  # 将网络切换到测试模式\n",
    "data = X_test[index]\n",
    "output = model(data)  # 输入数据data，生成输出outputs\n",
    "_, predicted = torch.max(output.data, 0)  # 找到概率最高的标签\n",
    "\n",
    "print(\"预测结果为{}\".format(predicted))\n",
    "\n",
    "X_test_show = (X_test[index]).numpy()\n",
    "plt.imshow(X_test_show.reshape(28, 28), cmap='gray')\n",
    "print(\"该图像的正确标签是{:.0f}です\".format(y_test[index]))\n"
   ]
  },
  {
   "cell_type": "code",
   "execution_count": 12,
   "metadata": {},
   "outputs": [],
   "source": [
    "#-----------------------------------------------"
   ]
  },
  {
   "cell_type": "code",
   "execution_count": 13,
   "metadata": {},
   "outputs": [
    {
     "name": "stdout",
     "output_type": "stream",
     "text": [
      "Net(\n",
      "  (fc1): Linear(in_features=784, out_features=100, bias=True)\n",
      "  (fc2): Linear(in_features=100, out_features=100, bias=True)\n",
      "  (fc3): Linear(in_features=100, out_features=10, bias=True)\n",
      ")\n"
     ]
    }
   ],
   "source": [
    "# 3. 神经网络建模\n",
    "#    类定义风格\n",
    "import torch.nn as nn\n",
    "import torch.nn.functional as F\n",
    "\n",
    "\n",
    "class Net(nn.Module):\n",
    "\n",
    "    def __init__(self, n_in, n_mid, n_out):\n",
    "        super(Net, self).__init__()\n",
    "        self.fc1 = nn.Linear(n_in, n_mid)  \n",
    "        self.fc2 = nn.Linear(n_mid, n_mid)\n",
    "        self.fc3 = nn.Linear(n_mid, n_out)\n",
    "\n",
    "    def forward(self, x):\n",
    "        \n",
    "        h1 = F.relu(self.fc1(x))\n",
    "        h2 = F.relu(self.fc2(h1))\n",
    "        output = self.fc3(h2)\n",
    "        return output\n",
    "\n",
    "\n",
    "model = Net(n_in=28*28*1, n_mid=100, n_out=10)  \n",
    "print(model)\n"
   ]
  },
  {
   "cell_type": "code",
   "execution_count": null,
   "metadata": {},
   "outputs": [],
   "source": []
  },
  {
   "cell_type": "code",
   "execution_count": 23,
   "metadata": {},
   "outputs": [],
   "source": [
    "a = torch.ones((2,2),requires_grad=True)\n",
    "b = a.pow(2).sum()\n",
    "b.backward(retain_graph=True)"
   ]
  },
  {
   "cell_type": "code",
   "execution_count": 24,
   "metadata": {},
   "outputs": [
    {
     "data": {
      "text/plain": [
       "tensor([[2., 2.],\n",
       "        [2., 2.]])"
      ]
     },
     "execution_count": 24,
     "metadata": {},
     "output_type": "execute_result"
    }
   ],
   "source": [
    "a.grad"
   ]
  },
  {
   "cell_type": "code",
   "execution_count": 26,
   "metadata": {},
   "outputs": [],
   "source": [
    "b.backward(retain_graph=True)"
   ]
  },
  {
   "cell_type": "code",
   "execution_count": 27,
   "metadata": {},
   "outputs": [
    {
     "data": {
      "text/plain": [
       "tensor([[4., 4.],\n",
       "        [4., 4.]])"
      ]
     },
     "execution_count": 27,
     "metadata": {},
     "output_type": "execute_result"
    }
   ],
   "source": [
    "a.grad"
   ]
  },
  {
   "cell_type": "code",
   "execution_count": 28,
   "metadata": {},
   "outputs": [
    {
     "data": {
      "text/plain": [
       "tensor([[6., 6.],\n",
       "        [6., 6.]])"
      ]
     },
     "execution_count": 28,
     "metadata": {},
     "output_type": "execute_result"
    }
   ],
   "source": [
    "b.backward()\n",
    "a.grad"
   ]
  },
  {
   "cell_type": "code",
   "execution_count": 29,
   "metadata": {},
   "outputs": [
    {
     "data": {
      "text/plain": [
       "array([[1., 1.],\n",
       "       [1., 1.]], dtype=float32)"
      ]
     },
     "execution_count": 29,
     "metadata": {},
     "output_type": "execute_result"
    }
   ],
   "source": [
    "a.data.cpu().numpy()"
   ]
  },
  {
   "cell_type": "code",
   "execution_count": 30,
   "metadata": {},
   "outputs": [
    {
     "data": {
      "text/plain": [
       "array([[1., 1.],\n",
       "       [1., 1.]], dtype=float32)"
      ]
     },
     "execution_count": 30,
     "metadata": {},
     "output_type": "execute_result"
    }
   ],
   "source": [
    "a.cpu().data.numpy()"
   ]
  },
  {
   "cell_type": "code",
   "execution_count": 31,
   "metadata": {},
   "outputs": [
    {
     "data": {
      "text/plain": [
       "array([[1., 1.],\n",
       "       [1., 1.]], dtype=float32)"
      ]
     },
     "execution_count": 31,
     "metadata": {},
     "output_type": "execute_result"
    }
   ],
   "source": [
    "a.detach().cpu().numpy()"
   ]
  },
  {
   "cell_type": "code",
   "execution_count": null,
   "metadata": {},
   "outputs": [],
   "source": []
  }
 ],
 "metadata": {
  "kernelspec": {
   "display_name": "Python 3 (ipykernel)",
   "language": "python",
   "name": "python3"
  },
  "language_info": {
   "codemirror_mode": {
    "name": "ipython",
    "version": 3
   },
   "file_extension": ".py",
   "mimetype": "text/x-python",
   "name": "python",
   "nbconvert_exporter": "python",
   "pygments_lexer": "ipython3",
   "version": "3.10.11"
  }
 },
 "nbformat": 4,
 "nbformat_minor": 2
}
